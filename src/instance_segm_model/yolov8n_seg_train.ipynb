{
  "cells": [
    {
      "cell_type": "code",
      "execution_count": null,
      "metadata": {
        "collapsed": true,
        "id": "xEtEnaOy5BYW"
      },
      "outputs": [],
      "source": [
        "!pip install ultralytics"
      ]
    },
    {
      "cell_type": "code",
      "execution_count": null,
      "metadata": {
        "collapsed": true,
        "id": "TQrmryrkUry_"
      },
      "outputs": [],
      "source": [
        "# Mount Google Drive to access the dataset\n",
        "from google.colab import drive\n",
        "drive.mount('/content/drive')"
      ]
    },
    {
      "cell_type": "code",
      "execution_count": null,
      "metadata": {
        "id": "B9-b9j_oaETS"
      },
      "outputs": [],
      "source": [
        "# Path to your dataset configuration file\n",
        "data_yaml_path = '/content/drive/MyDrive/learning-lab/dataset/data_config.yaml'"
      ]
    },
    {
      "cell_type": "code",
      "execution_count": null,
      "metadata": {
        "id": "1LqZJz9D5Mtp"
      },
      "outputs": [],
      "source": [
        "from ultralytics import YOLO\n",
        "\n",
        "model = YOLO(\"yolov8n-seg.pt\")"
      ]
    },
    {
      "cell_type": "code",
      "execution_count": null,
      "metadata": {
        "collapsed": true,
        "id": "L1EHpGjHad-L"
      },
      "outputs": [],
      "source": [
        "# Train the model on dataset\n",
        "model.train(data=data_yaml_path, epochs=150, imgsz=640, batch=16, task='segment')"
      ]
    },
    {
      "cell_type": "code",
      "source": [
        "# Validate the model\n",
        "metrics = model.val()"
      ],
      "metadata": {
        "id": "y6kDMRSOEa0U"
      },
      "execution_count": null,
      "outputs": []
    },
    {
      "cell_type": "code",
      "execution_count": null,
      "metadata": {
        "id": "Km45LMULvk5E"
      },
      "outputs": [],
      "source": [
        "# save best weights to the google drive\n",
        "source_path = '/content/runs/segment/train/weights/best.pt'\n",
        "dest_path = '/content/drive/MyDrive/learning-lab/best.pt'\n",
        "\n",
        "import shutil\n",
        "shutil.copy(source_path, dest_path)"
      ]
    }
  ],
  "metadata": {
    "accelerator": "GPU",
    "colab": {
      "gpuType": "T4",
      "provenance": []
    },
    "kernelspec": {
      "display_name": "Python 3",
      "name": "python3"
    },
    "language_info": {
      "name": "python"
    }
  },
  "nbformat": 4,
  "nbformat_minor": 0
}